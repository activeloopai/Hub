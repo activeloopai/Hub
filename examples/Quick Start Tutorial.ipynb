{
 "cells": [
  {
   "cell_type": "markdown",
   "metadata": {},
   "source": [
    "# Step 1: Storing Data with Hub\n",
    "In this first section, we create a `hub.Dataset` object on our local machine. Thereafter, we will manipulate our data through this `Dataset` object."
   ]
  },
  {
   "cell_type": "code",
   "execution_count": 7,
   "metadata": {},
   "outputs": [],
   "source": [
    "import hub\n",
    "from hub.schema import ClassLabel, Image\n",
    "\n",
    "import numpy as np\n",
    "import matplotlib.pyplot as plt\n",
    "%matplotlib inline"
   ]
  },
  {
   "cell_type": "markdown",
   "metadata": {},
   "source": [
    "First, we define a data schema called `my_schema`. \n",
    "\n",
    "`my_schema` describes our dataset at a high level. In this example, our dataset consists of two collections: `image` and `label`. Each `image` in our dataset has the shape (10, 10) and can take on one of five labels."
   ]
  },
  {
   "cell_type": "code",
   "execution_count": 8,
   "metadata": {},
   "outputs": [],
   "source": [
    "my_schema = {\n",
    "    \"image\": Image(shape=(10, 10), dtype=\"uint8\"),\n",
    "    \"label\": ClassLabel(num_classes=5),\n",
    "}"
   ]
  },
  {
   "cell_type": "markdown",
   "metadata": {},
   "source": [
    "We define a `tag` (we call it `\"mynameisvinn/example\"` but you can name it anything). This `tag` refers to the Hub repo where our dataset is stored."
   ]
  },
  {
   "cell_type": "code",
   "execution_count": 9,
   "metadata": {},
   "outputs": [],
   "source": [
    "tag = \"mynameisvinn/example\""
   ]
  },
  {
   "cell_type": "markdown",
   "metadata": {},
   "source": [
    "Now that we have described our dataset at a high level, we can create a `hub.Dataset` called `ds`.\n",
    "\n",
    "`ds` will be our primary way of interacting with Hub."
   ]
  },
  {
   "cell_type": "code",
   "execution_count": 10,
   "metadata": {},
   "outputs": [],
   "source": [
    "n_examples = 100\n",
    "ds = hub.Dataset(tag, shape=(n_examples,), schema=my_schema, mode=\"w\")"
   ]
  },
  {
   "cell_type": "markdown",
   "metadata": {},
   "source": [
    "We can treat `ds` as a pandas dataframe and populate it. In this example, we populate it with randomly generated matrics."
   ]
  },
  {
   "cell_type": "code",
   "execution_count": 11,
   "metadata": {},
   "outputs": [],
   "source": [
    "for i in range(100):\n",
    "    ds[\"image\", i] = np.random.randint(0, 255, (10, 10), dtype=\"uint8\")\n",
    "    ds[\"label\", i] = np.random.randint(5)"
   ]
  },
  {
   "cell_type": "markdown",
   "metadata": {},
   "source": [
    "Let's inspect our dataset:"
   ]
  },
  {
   "cell_type": "code",
   "execution_count": 12,
   "metadata": {},
   "outputs": [
    {
     "data": {
      "text/plain": [
       "Text(0.5, 1.0, 'label4')"
      ]
     },
     "execution_count": 12,
     "metadata": {},
     "output_type": "execute_result"
    },
    {
     "data": {
      "image/png": "[encoded data removed]",
      "text/plain": [
       "<Figure size 432x288 with 1 Axes>"
      ]
     },
     "metadata": {
      "needs_background": "light"
     },
     "output_type": "display_data"
    }
   ],
   "source": [
    "img = ds[\"image\", 5].compute()\n",
    "plt.imshow(img)\n",
    "plt.title(\"label\" + str(ds[\"label\", 5].compute()))"
   ]
  },
  {
   "cell_type": "markdown",
   "metadata": {},
   "source": [
    "By calling `ds.commit()`, we *commit* our dataset to a remote data store (perhaps s3). This remote data store can be identified by its tag (in this case, `mynameisvinn/examaple`)."
   ]
  },
  {
   "cell_type": "code",
   "execution_count": 13,
   "metadata": {},
   "outputs": [],
   "source": [
    "ds.commit()"
   ]
  },
  {
   "cell_type": "markdown",
   "metadata": {},
   "source": [
    "Finally, we remove `ds` with `ds.close()`."
   ]
  },
  {
   "cell_type": "code",
   "execution_count": 14,
   "metadata": {},
   "outputs": [],
   "source": [
    "ds.close()"
   ]
  },
  {
   "cell_type": "markdown",
   "metadata": {},
   "source": [
    "# Step 2: Remotely manipulating data\n",
    "Now we want to transform our dataset in some way. \n",
    "\n",
    "Perhaps we want to flatten images before feeding it to a convolutional network). We can apply a reshaping function to our remote data and then pull in the results."
   ]
  },
  {
   "cell_type": "markdown",
   "metadata": {},
   "source": [
    "Because we are modifying our data, we will need a new data schema:"
   ]
  },
  {
   "cell_type": "code",
   "execution_count": 15,
   "metadata": {},
   "outputs": [],
   "source": [
    "new_schema = {\n",
    "    \"image\": Image(shape=(1, 100), dtype=\"uint8\"),\n",
    "    \"label\": ClassLabel(num_classes=5),\n",
    "}"
   ]
  },
  {
   "cell_type": "markdown",
   "metadata": {},
   "source": [
    "After defining our transformation (`my_transform`), we decorate it with `hub.transform`."
   ]
  },
  {
   "cell_type": "code",
   "execution_count": 16,
   "metadata": {},
   "outputs": [],
   "source": [
    "@hub.transform(schema=new_schema)\n",
    "def my_transform(sample):\n",
    "    return {\n",
    "        \"image\": sample['image'].compute().reshape(1, 100),\n",
    "        \"label\": sample[\"label\"].compute()\n",
    "       }"
   ]
  },
  {
   "cell_type": "markdown",
   "metadata": {},
   "source": [
    "Invoking this decorated method returns a `transform` object."
   ]
  },
  {
   "cell_type": "code",
   "execution_count": 17,
   "metadata": {},
   "outputs": [],
   "source": [
    "out_ds = my_transform(ds)  # returns a transform object"
   ]
  },
  {
   "cell_type": "markdown",
   "metadata": {},
   "source": [
    "Let's inspect the result:"
   ]
  },
  {
   "cell_type": "code",
   "execution_count": 18,
   "metadata": {},
   "outputs": [
    {
     "name": "stderr",
     "output_type": "stream",
     "text": [
      "Computing the transormation: 100%|██████████| 1.00/1.00 [00:00<00:00, 27.8 items/s]\n"
     ]
    },
    {
     "data": {
      "text/plain": [
       "(1, 100)"
      ]
     },
     "execution_count": 18,
     "metadata": {},
     "output_type": "execute_result"
    }
   ],
   "source": [
    "out_ds['image', 0].compute().shape  # we can view the results of the operation"
   ]
  },
  {
   "cell_type": "markdown",
   "metadata": {},
   "source": [
    "If desired, we can push the results to a new data store:"
   ]
  },
  {
   "cell_type": "code",
   "execution_count": 73,
   "metadata": {},
   "outputs": [
    {
     "name": "stderr",
     "output_type": "stream",
     "text": [
      "Computing the transormation: 110 items [00:01, 75.0 items/s]               \n"
     ]
    }
   ],
   "source": [
    "res_ds = out_ds.store(\"mynameisvinn/example3\")  # write results back to activeloop"
   ]
  },
  {
   "cell_type": "code",
   "execution_count": null,
   "metadata": {},
   "outputs": [],
   "source": []
  }
 ],
 "metadata": {
  "kernelspec": {
   "display_name": "Python 3",
   "language": "python",
   "name": "python3"
  },
  "language_info": {
   "codemirror_mode": {
    "name": "ipython",
    "version": 3
   },
   "file_extension": ".py",
   "mimetype": "text/x-python",
   "name": "python",
   "nbconvert_exporter": "python",
   "pygments_lexer": "ipython3",
   "version": "3.8.3"
  }
 },
 "nbformat": 4,
 "nbformat_minor": 4
}
