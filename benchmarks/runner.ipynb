{
 "metadata": {
  "language_info": {
   "codemirror_mode": {
    "name": "ipython",
    "version": 3
   },
   "file_extension": ".py",
   "mimetype": "text/x-python",
   "name": "python",
   "nbconvert_exporter": "python",
   "pygments_lexer": "ipython3",
   "version": "3.9.1-final"
  },
  "orig_nbformat": 2,
  "kernelspec": {
   "name": "python3",
   "display_name": "Python 3"
  }
 },
 "nbformat": 4,
 "nbformat_minor": 2,
 "cells": [
  {
   "cell_type": "code",
   "execution_count": 20,
   "metadata": {},
   "outputs": [],
   "source": [
    "from hub.utils import Timer\n",
    "from hub import Dataset\n",
    "from memory_profiler import memory_usage"
   ]
  },
  {
   "cell_type": "code",
   "execution_count": 23,
   "metadata": {},
   "outputs": [
    {
     "output_type": "stream",
     "name": "stdout",
     "text": [
      "Hub access dataset activeloop/mnist: 4.2936789989471436s\n",
      "Hub access dataset activeloop/mnist peak memory usage: 238.08 MiB, baseline: 188.83 MiB\n"
     ]
    }
   ],
   "source": [
    "from benchmark_access_hub_full import benchmark_access_hub_full_setup, benchmark_access_hub_full_run\n",
    "\n",
    "def time_full_access(datasets=[\"activeloop/mnist\"]):\n",
    "    for dataset_name in datasets:\n",
    "        params = benchmark_access_hub_full_setup(dataset_name)\n",
    "        with Timer(f\"Hub access dataset {dataset_name}\"):\n",
    "            benchmark_access_hub_full_run(params)\n",
    "\n",
    "def memory_full_access(datasets=[\"activeloop/mnist\"]):\n",
    "    for dataset_name in datasets:\n",
    "        params = benchmark_access_hub_full_setup(dataset_name)\n",
    "        baseline = memory_usage()\n",
    "        usage = memory_usage((benchmark_access_hub_full_run, (params,)))\n",
    "        print(f\"Hub access dataset {dataset_name} peak memory usage: %.2f MiB, baseline: %.2f MiB\" % (max(usage), max(baseline)))\n",
    "\n",
    "time_full_access()\n",
    "memory_full_access()"
   ]
  },
  {
   "cell_type": "code",
   "execution_count": null,
   "metadata": {},
   "outputs": [],
   "source": []
  }
 ]
}